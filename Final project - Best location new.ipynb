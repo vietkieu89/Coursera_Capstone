{
 "cells": [
  {
   "cell_type": "markdown",
   "metadata": {},
   "source": [
    "# Best location for new tech office in South East Asia"
   ]
  },
  {
   "cell_type": "markdown",
   "metadata": {},
   "source": [
    "## Introduction/Business Problem"
   ]
  },
  {
   "cell_type": "markdown",
   "metadata": {},
   "source": [
    "South East Asia is on its way becoming a startup hub in Asia which has proven rapid growth over years, huge potential markets with over half of a billion population, and youthful consumers. Many international corporate is rushing up to setup its footprint in this area however, locating the right location to setup an office  is not an easy task. Among many cities in South East Asia, many factors are needed to consider including (not not limited to): life style (near by venues), cost of living, average cost of rent, ease of doing business and etc... \n",
    "\n",
    "Understand how different cities is clustered, how similarity between cities will give the business owner valuable information to decide whether a location is best fit for business."
   ]
  },
  {
   "cell_type": "markdown",
   "metadata": {},
   "source": [
    "## Data"
   ]
  },
  {
   "cell_type": "markdown",
   "metadata": {},
   "source": [
    "To achieve that, the Foursquare location data will give us the nearby venues for each of the targeted cities in South East Asia. This partially describe the lifestyle and cities infrastrucutre. The data then will be merged with other related dataset such as the cost of living, average cost of rent, and ease of doing business, etc... Several Western developed cities can be combined into the data set with the same methodology. Once the data is processed and clustered, we will be able to see how similarity between cities. In addition, we will do quick analysis on the pros and cons for each clusters."
   ]
  },
  {
   "cell_type": "markdown",
   "metadata": {},
   "source": [
    "1. Foursquare data:"
   ]
  },
  {
   "cell_type": "markdown",
   "metadata": {},
   "source": [
    "https://developer.foursquare.com/docs/api/venues/explore"
   ]
  },
  {
   "cell_type": "markdown",
   "metadata": {},
   "source": [
    "2. List of metropolitan areas in Asia"
   ]
  },
  {
   "cell_type": "markdown",
   "metadata": {},
   "source": [
    "https://en.wikipedia.org/wiki/List_of_metropolitan_areas_in_Asia"
   ]
  },
  {
   "cell_type": "markdown",
   "metadata": {},
   "source": [
    "3. Cost of living in Asia"
   ]
  },
  {
   "cell_type": "markdown",
   "metadata": {},
   "source": [
    "https://www.numbeo.com/cost-of-living/region_rankings.jsp?title=2019&region=142"
   ]
  },
  {
   "cell_type": "markdown",
   "metadata": {},
   "source": [
    "4. Ease of doing business"
   ]
  },
  {
   "cell_type": "markdown",
   "metadata": {},
   "source": [
    "https://www.doingbusiness.org/en/rankings"
   ]
  },
  {
   "cell_type": "code",
   "execution_count": null,
   "metadata": {},
   "outputs": [],
   "source": []
  }
 ],
 "metadata": {
  "kernelspec": {
   "display_name": "Python",
   "language": "python",
   "name": "conda-env-python-py"
  },
  "language_info": {
   "codemirror_mode": {
    "name": "ipython",
    "version": 3
   },
   "file_extension": ".py",
   "mimetype": "text/x-python",
   "name": "python",
   "nbconvert_exporter": "python",
   "pygments_lexer": "ipython3",
   "version": "3.6.7"
  }
 },
 "nbformat": 4,
 "nbformat_minor": 4
}
